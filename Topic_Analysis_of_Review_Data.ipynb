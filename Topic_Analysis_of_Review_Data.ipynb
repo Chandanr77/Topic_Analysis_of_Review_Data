{
  "nbformat": 4,
  "nbformat_minor": 0,
  "metadata": {
    "colab": {
      "name": "Topic Analysis of Review Data.ipynb",
      "provenance": [],
      "authorship_tag": "ABX9TyM9kIYvD8WLQk4y3af52EsN",
      "include_colab_link": true
    },
    "kernelspec": {
      "name": "python3",
      "display_name": "Python 3"
    },
    "language_info": {
      "name": "python"
    }
  },
  "cells": [
    {
      "cell_type": "markdown",
      "metadata": {
        "id": "view-in-github",
        "colab_type": "text"
      },
      "source": [
        "<a href=\"https://colab.research.google.com/github/Chandanr77/Topic_Analysis_of_Review_Data/blob/main/Topic_Analysis_of_Review_Data.ipynb\" target=\"_parent\"><img src=\"https://colab.research.google.com/assets/colab-badge.svg\" alt=\"Open In Colab\"/></a>"
      ]
    },
    {
      "cell_type": "code",
      "metadata": {
        "colab": {
          "base_uri": "https://localhost:8080/"
        },
        "id": "bWyC66PokWQD",
        "outputId": "17423c35-83c4-49c5-e64a-ff2b9831383e"
      },
      "source": [
        "import nltk\n",
        "nltk.download('stopwords')\n",
        "nltk.download('punkt')\n",
        "nltk.download('wordnet')"
      ],
      "execution_count": 1,
      "outputs": [
        {
          "output_type": "stream",
          "text": [
            "[nltk_data] Downloading package stopwords to /root/nltk_data...\n",
            "[nltk_data]   Package stopwords is already up-to-date!\n",
            "[nltk_data] Downloading package punkt to /root/nltk_data...\n",
            "[nltk_data]   Package punkt is already up-to-date!\n",
            "[nltk_data] Downloading package wordnet to /root/nltk_data...\n",
            "[nltk_data]   Package wordnet is already up-to-date!\n"
          ],
          "name": "stdout"
        },
        {
          "output_type": "execute_result",
          "data": {
            "text/plain": [
              "True"
            ]
          },
          "metadata": {
            "tags": []
          },
          "execution_count": 1
        }
      ]
    },
    {
      "cell_type": "code",
      "metadata": {
        "id": "AcA1Ntz_xrej"
      },
      "source": [
        "import pandas as pd\n",
        "import numpy as np\n",
        "import matplotlib.pyplot as plt"
      ],
      "execution_count": 2,
      "outputs": []
    },
    {
      "cell_type": "code",
      "metadata": {
        "id": "ycVBP1aWyr3w"
      },
      "source": [
        "from nltk.corpus import stopwords\n",
        "from nltk.tokenize import word_tokenize\n",
        "from nltk.tokenize import sent_tokenize"
      ],
      "execution_count": 3,
      "outputs": []
    },
    {
      "cell_type": "markdown",
      "metadata": {
        "id": "18fy5pUVx9Pw"
      },
      "source": [
        "### **1. Read the .csv file using Pandas. Take a look at the top few records**"
      ]
    },
    {
      "cell_type": "code",
      "metadata": {
        "colab": {
          "base_uri": "https://localhost:8080/",
          "height": 204
        },
        "id": "XVeDXyVgx8hX",
        "outputId": "3b2e2771-251d-44a7-e884-e6b723412534"
      },
      "source": [
        "reviews0 = pd.read_csv('K8 Reviews v0.2.csv')\n",
        "reviews0.head()"
      ],
      "execution_count": 4,
      "outputs": [
        {
          "output_type": "execute_result",
          "data": {
            "text/html": [
              "<div>\n",
              "<style scoped>\n",
              "    .dataframe tbody tr th:only-of-type {\n",
              "        vertical-align: middle;\n",
              "    }\n",
              "\n",
              "    .dataframe tbody tr th {\n",
              "        vertical-align: top;\n",
              "    }\n",
              "\n",
              "    .dataframe thead th {\n",
              "        text-align: right;\n",
              "    }\n",
              "</style>\n",
              "<table border=\"1\" class=\"dataframe\">\n",
              "  <thead>\n",
              "    <tr style=\"text-align: right;\">\n",
              "      <th></th>\n",
              "      <th>sentiment</th>\n",
              "      <th>review</th>\n",
              "    </tr>\n",
              "  </thead>\n",
              "  <tbody>\n",
              "    <tr>\n",
              "      <th>0</th>\n",
              "      <td>1</td>\n",
              "      <td>Good but need updates and improvements</td>\n",
              "    </tr>\n",
              "    <tr>\n",
              "      <th>1</th>\n",
              "      <td>0</td>\n",
              "      <td>Worst mobile i have bought ever, Battery is dr...</td>\n",
              "    </tr>\n",
              "    <tr>\n",
              "      <th>2</th>\n",
              "      <td>1</td>\n",
              "      <td>when I will get my 10% cash back.... its alrea...</td>\n",
              "    </tr>\n",
              "    <tr>\n",
              "      <th>3</th>\n",
              "      <td>1</td>\n",
              "      <td>Good</td>\n",
              "    </tr>\n",
              "    <tr>\n",
              "      <th>4</th>\n",
              "      <td>0</td>\n",
              "      <td>The worst phone everThey have changed the last...</td>\n",
              "    </tr>\n",
              "  </tbody>\n",
              "</table>\n",
              "</div>"
            ],
            "text/plain": [
              "   sentiment                                             review\n",
              "0          1             Good but need updates and improvements\n",
              "1          0  Worst mobile i have bought ever, Battery is dr...\n",
              "2          1  when I will get my 10% cash back.... its alrea...\n",
              "3          1                                               Good\n",
              "4          0  The worst phone everThey have changed the last..."
            ]
          },
          "metadata": {
            "tags": []
          },
          "execution_count": 4
        }
      ]
    },
    {
      "cell_type": "markdown",
      "metadata": {
        "id": "Rxsmwd53zPWn"
      },
      "source": [
        "### **2. Normalize casings for the review text and extract the text into a list for easier manipulation.**"
      ]
    },
    {
      "cell_type": "code",
      "metadata": {
        "colab": {
          "base_uri": "https://localhost:8080/"
        },
        "id": "tK4TAMUkyxvf",
        "outputId": "72d4a87b-e86a-485f-c235-880f57897b57"
      },
      "source": [
        "reviews0.shape"
      ],
      "execution_count": 5,
      "outputs": [
        {
          "output_type": "execute_result",
          "data": {
            "text/plain": [
              "(14675, 2)"
            ]
          },
          "metadata": {
            "tags": []
          },
          "execution_count": 5
        }
      ]
    },
    {
      "cell_type": "code",
      "metadata": {
        "id": "0tr3Nm-_y4T-"
      },
      "source": [
        "reviews0['review'] = reviews0['review'].str.lower()"
      ],
      "execution_count": 6,
      "outputs": []
    },
    {
      "cell_type": "code",
      "metadata": {
        "colab": {
          "base_uri": "https://localhost:8080/"
        },
        "id": "YCy7qisizI1O",
        "outputId": "65983e96-1316-4155-a2c6-d3a76d4976bc"
      },
      "source": [
        "reviews0['review'].head()"
      ],
      "execution_count": 7,
      "outputs": [
        {
          "output_type": "execute_result",
          "data": {
            "text/plain": [
              "0               good but need updates and improvements\n",
              "1    worst mobile i have bought ever, battery is dr...\n",
              "2    when i will get my 10% cash back.... its alrea...\n",
              "3                                                 good\n",
              "4    the worst phone everthey have changed the last...\n",
              "Name: review, dtype: object"
            ]
          },
          "metadata": {
            "tags": []
          },
          "execution_count": 7
        }
      ]
    },
    {
      "cell_type": "code",
      "metadata": {
        "colab": {
          "base_uri": "https://localhost:8080/",
          "height": 35
        },
        "id": "2zaWfoYlzoUH",
        "outputId": "583aa09f-7479-4ccd-c2d7-e17f5f8a0a42"
      },
      "source": [
        "reviews0['review'][0]"
      ],
      "execution_count": 8,
      "outputs": [
        {
          "output_type": "execute_result",
          "data": {
            "application/vnd.google.colaboratory.intrinsic+json": {
              "type": "string"
            },
            "text/plain": [
              "'good but need updates and improvements'"
            ]
          },
          "metadata": {
            "tags": []
          },
          "execution_count": 8
        }
      ]
    },
    {
      "cell_type": "code",
      "metadata": {
        "colab": {
          "base_uri": "https://localhost:8080/",
          "height": 35
        },
        "id": "89IKNqL4zxj7",
        "outputId": "59c7cdd8-19a7-471f-c789-2acaf45272c5"
      },
      "source": [
        "reviews_lower = [sent.lower() for sent in reviews0.review.values]\n",
        "reviews_lower[0]"
      ],
      "execution_count": 9,
      "outputs": [
        {
          "output_type": "execute_result",
          "data": {
            "application/vnd.google.colaboratory.intrinsic+json": {
              "type": "string"
            },
            "text/plain": [
              "'good but need updates and improvements'"
            ]
          },
          "metadata": {
            "tags": []
          },
          "execution_count": 9
        }
      ]
    },
    {
      "cell_type": "markdown",
      "metadata": {
        "id": "SizsY2X7z92Z"
      },
      "source": [
        "### **3. Tokenize the reviews using NLTKs word_tokenize function**"
      ]
    },
    {
      "cell_type": "code",
      "metadata": {
        "colab": {
          "base_uri": "https://localhost:8080/"
        },
        "id": "CI1LrvIEz6e6",
        "outputId": "bdb05c4b-5c81-4c28-aff6-440667c557f3"
      },
      "source": [
        "token = [word_tokenize(sent) for sent in reviews_lower]\n",
        "token[0]"
      ],
      "execution_count": 10,
      "outputs": [
        {
          "output_type": "execute_result",
          "data": {
            "text/plain": [
              "['good', 'but', 'need', 'updates', 'and', 'improvements']"
            ]
          },
          "metadata": {
            "tags": []
          },
          "execution_count": 10
        }
      ]
    },
    {
      "cell_type": "code",
      "metadata": {
        "id": "9LDXK6qw0Ppv"
      },
      "source": [
        "#nltk.download('brown')\n",
        "#nltk.download('averaged_perceptron_tagger')"
      ],
      "execution_count": 11,
      "outputs": []
    },
    {
      "cell_type": "markdown",
      "metadata": {
        "id": "BrmoT2SS9_iV"
      },
      "source": [
        "### **4. Perform parts-of-speech tagging on each sentence using the NLTK POS tagger.**\n",
        "\n"
      ]
    },
    {
      "cell_type": "code",
      "metadata": {
        "colab": {
          "base_uri": "https://localhost:8080/"
        },
        "id": "jMF1-wax0Byg",
        "outputId": "54119535-1f0a-40fe-80d8-eac14087c8db"
      },
      "source": [
        "nltk.pos_tag(token[0])"
      ],
      "execution_count": 12,
      "outputs": [
        {
          "output_type": "execute_result",
          "data": {
            "text/plain": [
              "[('good', 'JJ'),\n",
              " ('but', 'CC'),\n",
              " ('need', 'VBP'),\n",
              " ('updates', 'NNS'),\n",
              " ('and', 'CC'),\n",
              " ('improvements', 'NNS')]"
            ]
          },
          "metadata": {
            "tags": []
          },
          "execution_count": 12
        }
      ]
    },
    {
      "cell_type": "code",
      "metadata": {
        "id": "_Wuy7Nn32lH8"
      },
      "source": [
        "pos_tag = [nltk.pos_tag(wtoken) for wtoken in token]"
      ],
      "execution_count": 13,
      "outputs": []
    },
    {
      "cell_type": "code",
      "metadata": {
        "colab": {
          "base_uri": "https://localhost:8080/",
          "height": 338
        },
        "id": "udhGyY3H0ELP",
        "outputId": "a31651a3-b0c5-4b83-fecf-b23e18fe47e8"
      },
      "source": [
        "pd.DataFrame(pos_tag).head(5)"
      ],
      "execution_count": 14,
      "outputs": [
        {
          "output_type": "execute_result",
          "data": {
            "text/html": [
              "<div>\n",
              "<style scoped>\n",
              "    .dataframe tbody tr th:only-of-type {\n",
              "        vertical-align: middle;\n",
              "    }\n",
              "\n",
              "    .dataframe tbody tr th {\n",
              "        vertical-align: top;\n",
              "    }\n",
              "\n",
              "    .dataframe thead th {\n",
              "        text-align: right;\n",
              "    }\n",
              "</style>\n",
              "<table border=\"1\" class=\"dataframe\">\n",
              "  <thead>\n",
              "    <tr style=\"text-align: right;\">\n",
              "      <th></th>\n",
              "      <th>0</th>\n",
              "      <th>1</th>\n",
              "      <th>2</th>\n",
              "      <th>3</th>\n",
              "      <th>4</th>\n",
              "      <th>5</th>\n",
              "      <th>6</th>\n",
              "      <th>7</th>\n",
              "      <th>8</th>\n",
              "      <th>9</th>\n",
              "      <th>10</th>\n",
              "      <th>11</th>\n",
              "      <th>12</th>\n",
              "      <th>13</th>\n",
              "      <th>14</th>\n",
              "      <th>15</th>\n",
              "      <th>16</th>\n",
              "      <th>17</th>\n",
              "      <th>18</th>\n",
              "      <th>19</th>\n",
              "      <th>20</th>\n",
              "      <th>21</th>\n",
              "      <th>22</th>\n",
              "      <th>23</th>\n",
              "      <th>24</th>\n",
              "      <th>25</th>\n",
              "      <th>26</th>\n",
              "      <th>27</th>\n",
              "      <th>28</th>\n",
              "      <th>29</th>\n",
              "      <th>30</th>\n",
              "      <th>31</th>\n",
              "      <th>32</th>\n",
              "      <th>33</th>\n",
              "      <th>34</th>\n",
              "      <th>35</th>\n",
              "      <th>36</th>\n",
              "      <th>37</th>\n",
              "      <th>38</th>\n",
              "      <th>39</th>\n",
              "      <th>...</th>\n",
              "      <th>778</th>\n",
              "      <th>779</th>\n",
              "      <th>780</th>\n",
              "      <th>781</th>\n",
              "      <th>782</th>\n",
              "      <th>783</th>\n",
              "      <th>784</th>\n",
              "      <th>785</th>\n",
              "      <th>786</th>\n",
              "      <th>787</th>\n",
              "      <th>788</th>\n",
              "      <th>789</th>\n",
              "      <th>790</th>\n",
              "      <th>791</th>\n",
              "      <th>792</th>\n",
              "      <th>793</th>\n",
              "      <th>794</th>\n",
              "      <th>795</th>\n",
              "      <th>796</th>\n",
              "      <th>797</th>\n",
              "      <th>798</th>\n",
              "      <th>799</th>\n",
              "      <th>800</th>\n",
              "      <th>801</th>\n",
              "      <th>802</th>\n",
              "      <th>803</th>\n",
              "      <th>804</th>\n",
              "      <th>805</th>\n",
              "      <th>806</th>\n",
              "      <th>807</th>\n",
              "      <th>808</th>\n",
              "      <th>809</th>\n",
              "      <th>810</th>\n",
              "      <th>811</th>\n",
              "      <th>812</th>\n",
              "      <th>813</th>\n",
              "      <th>814</th>\n",
              "      <th>815</th>\n",
              "      <th>816</th>\n",
              "      <th>817</th>\n",
              "    </tr>\n",
              "  </thead>\n",
              "  <tbody>\n",
              "    <tr>\n",
              "      <th>0</th>\n",
              "      <td>(good, JJ)</td>\n",
              "      <td>(but, CC)</td>\n",
              "      <td>(need, VBP)</td>\n",
              "      <td>(updates, NNS)</td>\n",
              "      <td>(and, CC)</td>\n",
              "      <td>(improvements, NNS)</td>\n",
              "      <td>None</td>\n",
              "      <td>None</td>\n",
              "      <td>None</td>\n",
              "      <td>None</td>\n",
              "      <td>None</td>\n",
              "      <td>None</td>\n",
              "      <td>None</td>\n",
              "      <td>None</td>\n",
              "      <td>None</td>\n",
              "      <td>None</td>\n",
              "      <td>None</td>\n",
              "      <td>None</td>\n",
              "      <td>None</td>\n",
              "      <td>None</td>\n",
              "      <td>None</td>\n",
              "      <td>None</td>\n",
              "      <td>None</td>\n",
              "      <td>None</td>\n",
              "      <td>None</td>\n",
              "      <td>None</td>\n",
              "      <td>None</td>\n",
              "      <td>None</td>\n",
              "      <td>None</td>\n",
              "      <td>None</td>\n",
              "      <td>None</td>\n",
              "      <td>None</td>\n",
              "      <td>None</td>\n",
              "      <td>None</td>\n",
              "      <td>None</td>\n",
              "      <td>None</td>\n",
              "      <td>None</td>\n",
              "      <td>None</td>\n",
              "      <td>None</td>\n",
              "      <td>None</td>\n",
              "      <td>...</td>\n",
              "      <td>None</td>\n",
              "      <td>None</td>\n",
              "      <td>None</td>\n",
              "      <td>None</td>\n",
              "      <td>None</td>\n",
              "      <td>None</td>\n",
              "      <td>None</td>\n",
              "      <td>None</td>\n",
              "      <td>None</td>\n",
              "      <td>None</td>\n",
              "      <td>None</td>\n",
              "      <td>None</td>\n",
              "      <td>None</td>\n",
              "      <td>None</td>\n",
              "      <td>None</td>\n",
              "      <td>None</td>\n",
              "      <td>None</td>\n",
              "      <td>None</td>\n",
              "      <td>None</td>\n",
              "      <td>None</td>\n",
              "      <td>None</td>\n",
              "      <td>None</td>\n",
              "      <td>None</td>\n",
              "      <td>None</td>\n",
              "      <td>None</td>\n",
              "      <td>None</td>\n",
              "      <td>None</td>\n",
              "      <td>None</td>\n",
              "      <td>None</td>\n",
              "      <td>None</td>\n",
              "      <td>None</td>\n",
              "      <td>None</td>\n",
              "      <td>None</td>\n",
              "      <td>None</td>\n",
              "      <td>None</td>\n",
              "      <td>None</td>\n",
              "      <td>None</td>\n",
              "      <td>None</td>\n",
              "      <td>None</td>\n",
              "      <td>None</td>\n",
              "    </tr>\n",
              "    <tr>\n",
              "      <th>1</th>\n",
              "      <td>(worst, JJS)</td>\n",
              "      <td>(mobile, NN)</td>\n",
              "      <td>(i, NN)</td>\n",
              "      <td>(have, VBP)</td>\n",
              "      <td>(bought, VBN)</td>\n",
              "      <td>(ever, RB)</td>\n",
              "      <td>(,, ,)</td>\n",
              "      <td>(battery, NN)</td>\n",
              "      <td>(is, VBZ)</td>\n",
              "      <td>(draining, VBG)</td>\n",
              "      <td>(like, IN)</td>\n",
              "      <td>(hell, NN)</td>\n",
              "      <td>(,, ,)</td>\n",
              "      <td>(backup, NN)</td>\n",
              "      <td>(is, VBZ)</td>\n",
              "      <td>(only, RB)</td>\n",
              "      <td>(6, CD)</td>\n",
              "      <td>(to, TO)</td>\n",
              "      <td>(7, CD)</td>\n",
              "      <td>(hours, NNS)</td>\n",
              "      <td>(with, IN)</td>\n",
              "      <td>(internet, JJ)</td>\n",
              "      <td>(uses, NNS)</td>\n",
              "      <td>(,, ,)</td>\n",
              "      <td>(even, RB)</td>\n",
              "      <td>(if, IN)</td>\n",
              "      <td>(i, JJ)</td>\n",
              "      <td>(put, VBP)</td>\n",
              "      <td>(mobile, JJ)</td>\n",
              "      <td>(idle, NN)</td>\n",
              "      <td>(its, PRP$)</td>\n",
              "      <td>(getting, VBG)</td>\n",
              "      <td>(discharged.this, NN)</td>\n",
              "      <td>(is, VBZ)</td>\n",
              "      <td>(biggest, JJS)</td>\n",
              "      <td>(lie, NN)</td>\n",
              "      <td>(from, IN)</td>\n",
              "      <td>(amazon, NN)</td>\n",
              "      <td>(&amp;, CC)</td>\n",
              "      <td>(lenove, NN)</td>\n",
              "      <td>...</td>\n",
              "      <td>None</td>\n",
              "      <td>None</td>\n",
              "      <td>None</td>\n",
              "      <td>None</td>\n",
              "      <td>None</td>\n",
              "      <td>None</td>\n",
              "      <td>None</td>\n",
              "      <td>None</td>\n",
              "      <td>None</td>\n",
              "      <td>None</td>\n",
              "      <td>None</td>\n",
              "      <td>None</td>\n",
              "      <td>None</td>\n",
              "      <td>None</td>\n",
              "      <td>None</td>\n",
              "      <td>None</td>\n",
              "      <td>None</td>\n",
              "      <td>None</td>\n",
              "      <td>None</td>\n",
              "      <td>None</td>\n",
              "      <td>None</td>\n",
              "      <td>None</td>\n",
              "      <td>None</td>\n",
              "      <td>None</td>\n",
              "      <td>None</td>\n",
              "      <td>None</td>\n",
              "      <td>None</td>\n",
              "      <td>None</td>\n",
              "      <td>None</td>\n",
              "      <td>None</td>\n",
              "      <td>None</td>\n",
              "      <td>None</td>\n",
              "      <td>None</td>\n",
              "      <td>None</td>\n",
              "      <td>None</td>\n",
              "      <td>None</td>\n",
              "      <td>None</td>\n",
              "      <td>None</td>\n",
              "      <td>None</td>\n",
              "      <td>None</td>\n",
              "    </tr>\n",
              "    <tr>\n",
              "      <th>2</th>\n",
              "      <td>(when, WRB)</td>\n",
              "      <td>(i, NN)</td>\n",
              "      <td>(will, MD)</td>\n",
              "      <td>(get, VB)</td>\n",
              "      <td>(my, PRP$)</td>\n",
              "      <td>(10, CD)</td>\n",
              "      <td>(%, NN)</td>\n",
              "      <td>(cash, NN)</td>\n",
              "      <td>(back, RB)</td>\n",
              "      <td>(..., :)</td>\n",
              "      <td>(., .)</td>\n",
              "      <td>(its, PRP$)</td>\n",
              "      <td>(already, RB)</td>\n",
              "      <td>(15, CD)</td>\n",
              "      <td>(january.., NN)</td>\n",
              "      <td>None</td>\n",
              "      <td>None</td>\n",
              "      <td>None</td>\n",
              "      <td>None</td>\n",
              "      <td>None</td>\n",
              "      <td>None</td>\n",
              "      <td>None</td>\n",
              "      <td>None</td>\n",
              "      <td>None</td>\n",
              "      <td>None</td>\n",
              "      <td>None</td>\n",
              "      <td>None</td>\n",
              "      <td>None</td>\n",
              "      <td>None</td>\n",
              "      <td>None</td>\n",
              "      <td>None</td>\n",
              "      <td>None</td>\n",
              "      <td>None</td>\n",
              "      <td>None</td>\n",
              "      <td>None</td>\n",
              "      <td>None</td>\n",
              "      <td>None</td>\n",
              "      <td>None</td>\n",
              "      <td>None</td>\n",
              "      <td>None</td>\n",
              "      <td>...</td>\n",
              "      <td>None</td>\n",
              "      <td>None</td>\n",
              "      <td>None</td>\n",
              "      <td>None</td>\n",
              "      <td>None</td>\n",
              "      <td>None</td>\n",
              "      <td>None</td>\n",
              "      <td>None</td>\n",
              "      <td>None</td>\n",
              "      <td>None</td>\n",
              "      <td>None</td>\n",
              "      <td>None</td>\n",
              "      <td>None</td>\n",
              "      <td>None</td>\n",
              "      <td>None</td>\n",
              "      <td>None</td>\n",
              "      <td>None</td>\n",
              "      <td>None</td>\n",
              "      <td>None</td>\n",
              "      <td>None</td>\n",
              "      <td>None</td>\n",
              "      <td>None</td>\n",
              "      <td>None</td>\n",
              "      <td>None</td>\n",
              "      <td>None</td>\n",
              "      <td>None</td>\n",
              "      <td>None</td>\n",
              "      <td>None</td>\n",
              "      <td>None</td>\n",
              "      <td>None</td>\n",
              "      <td>None</td>\n",
              "      <td>None</td>\n",
              "      <td>None</td>\n",
              "      <td>None</td>\n",
              "      <td>None</td>\n",
              "      <td>None</td>\n",
              "      <td>None</td>\n",
              "      <td>None</td>\n",
              "      <td>None</td>\n",
              "      <td>None</td>\n",
              "    </tr>\n",
              "    <tr>\n",
              "      <th>3</th>\n",
              "      <td>(good, JJ)</td>\n",
              "      <td>None</td>\n",
              "      <td>None</td>\n",
              "      <td>None</td>\n",
              "      <td>None</td>\n",
              "      <td>None</td>\n",
              "      <td>None</td>\n",
              "      <td>None</td>\n",
              "      <td>None</td>\n",
              "      <td>None</td>\n",
              "      <td>None</td>\n",
              "      <td>None</td>\n",
              "      <td>None</td>\n",
              "      <td>None</td>\n",
              "      <td>None</td>\n",
              "      <td>None</td>\n",
              "      <td>None</td>\n",
              "      <td>None</td>\n",
              "      <td>None</td>\n",
              "      <td>None</td>\n",
              "      <td>None</td>\n",
              "      <td>None</td>\n",
              "      <td>None</td>\n",
              "      <td>None</td>\n",
              "      <td>None</td>\n",
              "      <td>None</td>\n",
              "      <td>None</td>\n",
              "      <td>None</td>\n",
              "      <td>None</td>\n",
              "      <td>None</td>\n",
              "      <td>None</td>\n",
              "      <td>None</td>\n",
              "      <td>None</td>\n",
              "      <td>None</td>\n",
              "      <td>None</td>\n",
              "      <td>None</td>\n",
              "      <td>None</td>\n",
              "      <td>None</td>\n",
              "      <td>None</td>\n",
              "      <td>None</td>\n",
              "      <td>...</td>\n",
              "      <td>None</td>\n",
              "      <td>None</td>\n",
              "      <td>None</td>\n",
              "      <td>None</td>\n",
              "      <td>None</td>\n",
              "      <td>None</td>\n",
              "      <td>None</td>\n",
              "      <td>None</td>\n",
              "      <td>None</td>\n",
              "      <td>None</td>\n",
              "      <td>None</td>\n",
              "      <td>None</td>\n",
              "      <td>None</td>\n",
              "      <td>None</td>\n",
              "      <td>None</td>\n",
              "      <td>None</td>\n",
              "      <td>None</td>\n",
              "      <td>None</td>\n",
              "      <td>None</td>\n",
              "      <td>None</td>\n",
              "      <td>None</td>\n",
              "      <td>None</td>\n",
              "      <td>None</td>\n",
              "      <td>None</td>\n",
              "      <td>None</td>\n",
              "      <td>None</td>\n",
              "      <td>None</td>\n",
              "      <td>None</td>\n",
              "      <td>None</td>\n",
              "      <td>None</td>\n",
              "      <td>None</td>\n",
              "      <td>None</td>\n",
              "      <td>None</td>\n",
              "      <td>None</td>\n",
              "      <td>None</td>\n",
              "      <td>None</td>\n",
              "      <td>None</td>\n",
              "      <td>None</td>\n",
              "      <td>None</td>\n",
              "      <td>None</td>\n",
              "    </tr>\n",
              "    <tr>\n",
              "      <th>4</th>\n",
              "      <td>(the, DT)</td>\n",
              "      <td>(worst, JJS)</td>\n",
              "      <td>(phone, NN)</td>\n",
              "      <td>(everthey, NN)</td>\n",
              "      <td>(have, VBP)</td>\n",
              "      <td>(changed, VBN)</td>\n",
              "      <td>(the, DT)</td>\n",
              "      <td>(last, JJ)</td>\n",
              "      <td>(phone, NN)</td>\n",
              "      <td>(but, CC)</td>\n",
              "      <td>(the, DT)</td>\n",
              "      <td>(problem, NN)</td>\n",
              "      <td>(is, VBZ)</td>\n",
              "      <td>(still, RB)</td>\n",
              "      <td>(same, JJ)</td>\n",
              "      <td>(and, CC)</td>\n",
              "      <td>(the, DT)</td>\n",
              "      <td>(amazon, NN)</td>\n",
              "      <td>(is, VBZ)</td>\n",
              "      <td>(not, RB)</td>\n",
              "      <td>(returning, VBG)</td>\n",
              "      <td>(the, DT)</td>\n",
              "      <td>(phone, NN)</td>\n",
              "      <td>(.highly, RB)</td>\n",
              "      <td>(disappointing, JJ)</td>\n",
              "      <td>(of, IN)</td>\n",
              "      <td>(amazon, NN)</td>\n",
              "      <td>None</td>\n",
              "      <td>None</td>\n",
              "      <td>None</td>\n",
              "      <td>None</td>\n",
              "      <td>None</td>\n",
              "      <td>None</td>\n",
              "      <td>None</td>\n",
              "      <td>None</td>\n",
              "      <td>None</td>\n",
              "      <td>None</td>\n",
              "      <td>None</td>\n",
              "      <td>None</td>\n",
              "      <td>None</td>\n",
              "      <td>...</td>\n",
              "      <td>None</td>\n",
              "      <td>None</td>\n",
              "      <td>None</td>\n",
              "      <td>None</td>\n",
              "      <td>None</td>\n",
              "      <td>None</td>\n",
              "      <td>None</td>\n",
              "      <td>None</td>\n",
              "      <td>None</td>\n",
              "      <td>None</td>\n",
              "      <td>None</td>\n",
              "      <td>None</td>\n",
              "      <td>None</td>\n",
              "      <td>None</td>\n",
              "      <td>None</td>\n",
              "      <td>None</td>\n",
              "      <td>None</td>\n",
              "      <td>None</td>\n",
              "      <td>None</td>\n",
              "      <td>None</td>\n",
              "      <td>None</td>\n",
              "      <td>None</td>\n",
              "      <td>None</td>\n",
              "      <td>None</td>\n",
              "      <td>None</td>\n",
              "      <td>None</td>\n",
              "      <td>None</td>\n",
              "      <td>None</td>\n",
              "      <td>None</td>\n",
              "      <td>None</td>\n",
              "      <td>None</td>\n",
              "      <td>None</td>\n",
              "      <td>None</td>\n",
              "      <td>None</td>\n",
              "      <td>None</td>\n",
              "      <td>None</td>\n",
              "      <td>None</td>\n",
              "      <td>None</td>\n",
              "      <td>None</td>\n",
              "      <td>None</td>\n",
              "    </tr>\n",
              "  </tbody>\n",
              "</table>\n",
              "<p>5 rows × 818 columns</p>\n",
              "</div>"
            ],
            "text/plain": [
              "            0             1            2    ...   815   816   817\n",
              "0    (good, JJ)     (but, CC)  (need, VBP)  ...  None  None  None\n",
              "1  (worst, JJS)  (mobile, NN)      (i, NN)  ...  None  None  None\n",
              "2   (when, WRB)       (i, NN)   (will, MD)  ...  None  None  None\n",
              "3    (good, JJ)          None         None  ...  None  None  None\n",
              "4     (the, DT)  (worst, JJS)  (phone, NN)  ...  None  None  None\n",
              "\n",
              "[5 rows x 818 columns]"
            ]
          },
          "metadata": {
            "tags": []
          },
          "execution_count": 14
        }
      ]
    },
    {
      "cell_type": "markdown",
      "metadata": {
        "id": "cQ5wNfcg-GGt"
      },
      "source": [
        "### **5. For the topic model, we should  want to include only nouns.**\n",
        "\n",
        "a. Find out all the POS tags that correspond to nouns.\n",
        "\n",
        "b. Limit the data to only terms with these tags."
      ]
    },
    {
      "cell_type": "markdown",
      "metadata": {
        "id": "dw_9ZoEO-2VJ"
      },
      "source": [
        ""
      ]
    },
    {
      "cell_type": "code",
      "metadata": {
        "id": "3fKzPbcx9uv-"
      },
      "source": [
        "import re\n",
        "reviews_noun=[]\n",
        "for sent in pos_tag:\n",
        " reviews_noun.append([token for token in sent if re.search(\"NN.*\",\n",
        "token[1])])"
      ],
      "execution_count": 15,
      "outputs": []
    },
    {
      "cell_type": "code",
      "metadata": {
        "colab": {
          "base_uri": "https://localhost:8080/"
        },
        "id": "TLQYEE2V9zN7",
        "outputId": "f56e213a-5063-4f67-c775-14e2d94a62bb"
      },
      "source": [
        "reviews_noun[0:3]"
      ],
      "execution_count": 16,
      "outputs": [
        {
          "output_type": "execute_result",
          "data": {
            "text/plain": [
              "[[('updates', 'NNS'), ('improvements', 'NNS')],\n",
              " [('mobile', 'NN'),\n",
              "  ('i', 'NN'),\n",
              "  ('battery', 'NN'),\n",
              "  ('hell', 'NN'),\n",
              "  ('backup', 'NN'),\n",
              "  ('hours', 'NNS'),\n",
              "  ('uses', 'NNS'),\n",
              "  ('idle', 'NN'),\n",
              "  ('discharged.this', 'NN'),\n",
              "  ('lie', 'NN'),\n",
              "  ('amazon', 'NN'),\n",
              "  ('lenove', 'NN'),\n",
              "  ('battery', 'NN'),\n",
              "  ('charger', 'NN'),\n",
              "  ('hours', 'NNS'),\n",
              "  ('don', 'NN')],\n",
              " [('i', 'NN'), ('%', 'NN'), ('cash', 'NN'), ('january..', 'NN')]]"
            ]
          },
          "metadata": {
            "tags": []
          },
          "execution_count": 16
        }
      ]
    },
    {
      "cell_type": "markdown",
      "metadata": {
        "id": "zpxIZacC_IVG"
      },
      "source": [
        "### **6.Lemmatize.** \n",
        "\n",
        "a. Different forms of the terms need to be treated as one.\n",
        "\n",
        "b. No need to provide POS tag to lemmatizer for now"
      ]
    },
    {
      "cell_type": "code",
      "metadata": {
        "id": "58uYHDWz9395"
      },
      "source": [
        "from nltk.stem import WordNetLemmatizer\n",
        "wnl = WordNetLemmatizer()"
      ],
      "execution_count": 17,
      "outputs": []
    },
    {
      "cell_type": "code",
      "metadata": {
        "id": "a0-7gNr6_crU"
      },
      "source": [
        "reviews_lemmatized=[]\n",
        "for sent in reviews_noun:\n",
        " reviews_lemmatized.append([wnl.lemmatize(word[0]) for word in sent])"
      ],
      "execution_count": 18,
      "outputs": []
    },
    {
      "cell_type": "code",
      "metadata": {
        "colab": {
          "base_uri": "https://localhost:8080/"
        },
        "id": "GrawfIzV_etQ",
        "outputId": "7abbe81e-44bf-44f9-903e-a5ee4a9ece3b"
      },
      "source": [
        "reviews_lemmatized[0],reviews_lemmatized[1],reviews_lemmatized[2]\n"
      ],
      "execution_count": 19,
      "outputs": [
        {
          "output_type": "execute_result",
          "data": {
            "text/plain": [
              "(['update', 'improvement'],\n",
              " ['mobile',\n",
              "  'i',\n",
              "  'battery',\n",
              "  'hell',\n",
              "  'backup',\n",
              "  'hour',\n",
              "  'us',\n",
              "  'idle',\n",
              "  'discharged.this',\n",
              "  'lie',\n",
              "  'amazon',\n",
              "  'lenove',\n",
              "  'battery',\n",
              "  'charger',\n",
              "  'hour',\n",
              "  'don'],\n",
              " ['i', '%', 'cash', 'january..'])"
            ]
          },
          "metadata": {
            "tags": []
          },
          "execution_count": 19
        }
      ]
    },
    {
      "cell_type": "markdown",
      "metadata": {
        "id": "JcLyQntTBN5Q"
      },
      "source": [
        "### **7.Remove stopwords and punctuation**(If any)\n",
        "\n",
        "---\n",
        "\n"
      ]
    },
    {
      "cell_type": "code",
      "metadata": {
        "colab": {
          "base_uri": "https://localhost:8080/"
        },
        "id": "0HZudRvNBHTi",
        "outputId": "d5444ab6-b16e-44c9-d0b0-f6c066fa38cc"
      },
      "source": [
        "print(stopwords.words('english'))"
      ],
      "execution_count": 20,
      "outputs": [
        {
          "output_type": "stream",
          "text": [
            "['i', 'me', 'my', 'myself', 'we', 'our', 'ours', 'ourselves', 'you', \"you're\", \"you've\", \"you'll\", \"you'd\", 'your', 'yours', 'yourself', 'yourselves', 'he', 'him', 'his', 'himself', 'she', \"she's\", 'her', 'hers', 'herself', 'it', \"it's\", 'its', 'itself', 'they', 'them', 'their', 'theirs', 'themselves', 'what', 'which', 'who', 'whom', 'this', 'that', \"that'll\", 'these', 'those', 'am', 'is', 'are', 'was', 'were', 'be', 'been', 'being', 'have', 'has', 'had', 'having', 'do', 'does', 'did', 'doing', 'a', 'an', 'the', 'and', 'but', 'if', 'or', 'because', 'as', 'until', 'while', 'of', 'at', 'by', 'for', 'with', 'about', 'against', 'between', 'into', 'through', 'during', 'before', 'after', 'above', 'below', 'to', 'from', 'up', 'down', 'in', 'out', 'on', 'off', 'over', 'under', 'again', 'further', 'then', 'once', 'here', 'there', 'when', 'where', 'why', 'how', 'all', 'any', 'both', 'each', 'few', 'more', 'most', 'other', 'some', 'such', 'no', 'nor', 'not', 'only', 'own', 'same', 'so', 'than', 'too', 'very', 's', 't', 'can', 'will', 'just', 'don', \"don't\", 'should', \"should've\", 'now', 'd', 'll', 'm', 'o', 're', 've', 'y', 'ain', 'aren', \"aren't\", 'couldn', \"couldn't\", 'didn', \"didn't\", 'doesn', \"doesn't\", 'hadn', \"hadn't\", 'hasn', \"hasn't\", 'haven', \"haven't\", 'isn', \"isn't\", 'ma', 'mightn', \"mightn't\", 'mustn', \"mustn't\", 'needn', \"needn't\", 'shan', \"shan't\", 'shouldn', \"shouldn't\", 'wasn', \"wasn't\", 'weren', \"weren't\", 'won', \"won't\", 'wouldn', \"wouldn't\"]\n"
          ],
          "name": "stdout"
        }
      ]
    },
    {
      "cell_type": "code",
      "metadata": {
        "id": "nNcYKxMSBWM-"
      },
      "source": [
        "from string import punctuation\n",
        "stop_words = stopwords.words(\"english\")+ list(punctuation)"
      ],
      "execution_count": 21,
      "outputs": []
    },
    {
      "cell_type": "code",
      "metadata": {
        "id": "lCjsuh8oBbxP"
      },
      "source": [
        "creviews = []\n",
        "for sent in reviews_lemmatized:\n",
        " creviews.append([term for term in sent if term not in stop_words])"
      ],
      "execution_count": 22,
      "outputs": []
    },
    {
      "cell_type": "code",
      "metadata": {
        "colab": {
          "base_uri": "https://localhost:8080/"
        },
        "id": "FzGkPhDJBog-",
        "outputId": "d8b51f88-6e34-4d04-c2cd-e8ac4fc02268"
      },
      "source": [
        "creviews[0:4]"
      ],
      "execution_count": 23,
      "outputs": [
        {
          "output_type": "execute_result",
          "data": {
            "text/plain": [
              "[['update', 'improvement'],\n",
              " ['mobile',\n",
              "  'battery',\n",
              "  'hell',\n",
              "  'backup',\n",
              "  'hour',\n",
              "  'us',\n",
              "  'idle',\n",
              "  'discharged.this',\n",
              "  'lie',\n",
              "  'amazon',\n",
              "  'lenove',\n",
              "  'battery',\n",
              "  'charger',\n",
              "  'hour'],\n",
              " ['cash', 'january..'],\n",
              " []]"
            ]
          },
          "metadata": {
            "tags": []
          },
          "execution_count": 23
        }
      ]
    },
    {
      "cell_type": "markdown",
      "metadata": {
        "id": "cOsa644fCL5i"
      },
      "source": [
        "### **8. Create a topic model using LDA on the cleaned-up data with 12 topics.**\n",
        "\n",
        "a. Print out the top terms for each topic.\n",
        "\n",
        "b. What is the coherence of the model with the c_v metric?"
      ]
    },
    {
      "cell_type": "code",
      "metadata": {
        "colab": {
          "base_uri": "https://localhost:8080/"
        },
        "id": "6TzJLL6mCG3B",
        "outputId": "14a6aea6-7720-4fa0-dab1-d06ab4bffa4f"
      },
      "source": [
        "!pip install --upgrade gensim"
      ],
      "execution_count": 24,
      "outputs": [
        {
          "output_type": "stream",
          "text": [
            "Requirement already up-to-date: gensim in /usr/local/lib/python3.7/dist-packages (4.0.1)\n",
            "Requirement already satisfied, skipping upgrade: numpy>=1.11.3 in /usr/local/lib/python3.7/dist-packages (from gensim) (1.19.5)\n",
            "Requirement already satisfied, skipping upgrade: scipy>=0.18.1 in /usr/local/lib/python3.7/dist-packages (from gensim) (1.4.1)\n",
            "Requirement already satisfied, skipping upgrade: smart-open>=1.8.1 in /usr/local/lib/python3.7/dist-packages (from gensim) (5.0.0)\n"
          ],
          "name": "stdout"
        }
      ]
    },
    {
      "cell_type": "code",
      "metadata": {
        "colab": {
          "base_uri": "https://localhost:8080/"
        },
        "id": "dTnuPNJACWYn",
        "outputId": "2288365f-2f54-43df-fdf9-f8df66ec1ec7"
      },
      "source": [
        "import gensim\n",
        "from gensim import corpora\n",
        "from gensim.utils import simple_preprocess\n",
        "from gensim.parsing.preprocessing import STOPWORDS\n",
        "from nltk.stem import WordNetLemmatizer, SnowballStemmer\n",
        "from gensim.parsing.preprocessing import preprocess_documents\n",
        "from gensim.corpora import Dictionary\n",
        "from gensim.models import TfidfModel, LsiModel\n",
        "from gensim.models.coherencemodel import CoherenceModel\n",
        "\n",
        "\n"
      ],
      "execution_count": 25,
      "outputs": [
        {
          "output_type": "stream",
          "text": [
            "/usr/local/lib/python3.7/dist-packages/gensim/similarities/__init__.py:15: UserWarning: The gensim.similarities.levenshtein submodule is disabled, because the optional Levenshtein package <https://pypi.org/project/python-Levenshtein/> is unavailable. Install Levenhstein (e.g. `pip install python-Levenshtein`) to suppress this warning.\n",
            "  warnings.warn(msg)\n"
          ],
          "name": "stderr"
        }
      ]
    },
    {
      "cell_type": "code",
      "metadata": {
        "id": "ztpky475Ccrd"
      },
      "source": [
        "id2word = corpora.Dictionary(creviews)\n",
        "texts = creviews\n"
      ],
      "execution_count": 26,
      "outputs": []
    },
    {
      "cell_type": "code",
      "metadata": {
        "colab": {
          "base_uri": "https://localhost:8080/"
        },
        "id": "wLmIqsopCr_Q",
        "outputId": "eb02832c-8a28-40cc-b1d1-6d99ff1d54f0"
      },
      "source": [
        "corpus = [id2word.doc2bow(text) for text in texts]\n",
        "print(corpus[200])"
      ],
      "execution_count": 27,
      "outputs": [
        {
          "output_type": "stream",
          "text": [
            "[(427, 1), (428, 1), (429, 1), (430, 1)]\n"
          ],
          "name": "stdout"
        }
      ]
    },
    {
      "cell_type": "code",
      "metadata": {
        "id": "U8ucZa1vC1Ab"
      },
      "source": [
        "lda_model = gensim.models.ldamodel.LdaModel(corpus=corpus, id2word=id2word, num_topics=12, random_state=42, passes=10, per_word_topics=True)\n"
      ],
      "execution_count": 28,
      "outputs": []
    },
    {
      "cell_type": "code",
      "metadata": {
        "colab": {
          "base_uri": "https://localhost:8080/"
        },
        "id": "3H4zoEfoC9L-",
        "outputId": "24fc259c-0464-4eac-f4f2-8c75535f0647"
      },
      "source": [
        "import pprint\n",
        "lda_model.print_topics()"
      ],
      "execution_count": 29,
      "outputs": [
        {
          "output_type": "execute_result",
          "data": {
            "text/plain": [
              "[(0,\n",
              "  '0.329*\"mobile\" + 0.094*\"charger\" + 0.073*\"heat\" + 0.030*\"box\" + 0.022*\"system\" + 0.022*\"worth\" + 0.020*\"turbo\" + 0.019*\"phone..\" + 0.015*\"class\" + 0.013*\"plz\"'),\n",
              " (1,\n",
              "  '0.226*\"camera\" + 0.097*\"quality\" + 0.037*\"battery\" + 0.030*\"performance\" + 0.020*\"display\" + 0.017*\"price\" + 0.017*\"mode\" + 0.014*\"feature\" + 0.013*\"ram\" + 0.013*\"sound\"'),\n",
              " (2,\n",
              "  '0.157*\"issue\" + 0.101*\"service\" + 0.086*\"money\" + 0.070*\"month\" + 0.046*\"value\" + 0.043*\"handset\" + 0.029*\"center\" + 0.025*\"replacement\" + 0.020*\"super\" + 0.019*\"amazon\"'),\n",
              " (3,\n",
              "  '0.093*\"battery\" + 0.044*\"day\" + 0.043*\"time\" + 0.037*\"phone\" + 0.034*\"issue\" + 0.029*\"hour\" + 0.025*\"update\" + 0.021*\"device\" + 0.018*\"charge\" + 0.018*\"software\"'),\n",
              " (4,\n",
              "  '0.255*\"battery\" + 0.121*\"backup\" + 0.065*\"waste\" + 0.046*\"superb\" + 0.043*\"everything\" + 0.039*\"money\" + 0.027*\"please\" + 0.017*\"awesome\" + 0.014*\"bill\" + 0.011*\"bit\"'),\n",
              " (5,\n",
              "  '0.114*\"note\" + 0.060*\"k8\" + 0.058*\"lenovo\" + 0.038*\"amazon\" + 0.036*\"network\" + 0.021*\"customer\" + 0.020*\"call\" + 0.020*\"sim\" + 0.019*\"return\" + 0.018*\"day\"'),\n",
              " (6,\n",
              "  '0.335*\"problem\" + 0.129*\"heating\" + 0.075*\"price\" + 0.052*\"range\" + 0.032*\"buy\" + 0.025*\"network\" + 0.014*\"cast\" + 0.010*\"charging\" + 0.010*\"order\" + 0.010*\"one\"'),\n",
              " (7,\n",
              "  '0.384*\"product\" + 0.038*\"hai\" + 0.030*\"h\" + 0.017*\"ho\" + 0.016*\"earphone\" + 0.015*\"ok\" + 0.014*\"lenovo\" + 0.011*\"amazon\" + 0.010*\"complaint\" + 0.009*\"hi\"'),\n",
              " (8,\n",
              "  '0.121*\"screen\" + 0.078*\"glass\" + 0.054*\"expectation\" + 0.041*\"gorilla\" + 0.038*\"set\" + 0.038*\"excellent\" + 0.036*\"bug\" + 0.018*\"k4\" + 0.016*\"deal\" + 0.015*\"ko\"'),\n",
              " (9,\n",
              "  '0.084*\"speaker\" + 0.037*\"dolby\" + 0.035*\"card\" + 0.034*\"sound\" + 0.031*\"headphone\" + 0.029*\"delivery\" + 0.028*\"memory\" + 0.025*\"flash\" + 0.025*\"key\" + 0.024*\"music\"'),\n",
              " (10,\n",
              "  '0.478*\"phone\" + 0.035*\"feature\" + 0.026*\"price\" + 0.015*\"processor\" + 0.013*\"budget\" + 0.012*\"time\" + 0.011*\"game\" + 0.010*\"hang\" + 0.010*\"lenovo\" + 0.010*\"month\"'),\n",
              " (11,\n",
              "  '0.140*\"performance\" + 0.063*\"call\" + 0.042*\"smartphone\" + 0.037*\"experience\" + 0.033*\"killer\" + 0.031*\"voice\" + 0.031*\"till\" + 0.029*\"condition\" + 0.024*\"item\" + 0.019*\"recorder\"')]"
            ]
          },
          "metadata": {
            "tags": []
          },
          "execution_count": 29
        }
      ]
    },
    {
      "cell_type": "markdown",
      "metadata": {
        "id": "2T0fVThvDrUQ"
      },
      "source": [
        "### **9. Analyze the topics through the business lens.**\n",
        "a. Determine which of the topics can be combined."
      ]
    },
    {
      "cell_type": "code",
      "metadata": {
        "id": "9exAAlvrDmLx"
      },
      "source": [
        "coherence_model_lda = CoherenceModel(model=lda_model, texts=creviews,dictionary=id2word, coherence='c_v')\n",
        "coherence_lda = coherence_model_lda.get_coherence()\n"
      ],
      "execution_count": 30,
      "outputs": []
    },
    {
      "cell_type": "code",
      "metadata": {
        "colab": {
          "base_uri": "https://localhost:8080/"
        },
        "id": "4sqGuAU8D39o",
        "outputId": "adbff237-d474-4b05-c31e-c8d5bbdf8563"
      },
      "source": [
        "print('\\nCoherence Score: ', coherence_lda)"
      ],
      "execution_count": 31,
      "outputs": [
        {
          "output_type": "stream",
          "text": [
            "\n",
            "Coherence Score:  0.5330747959468586\n"
          ],
          "name": "stdout"
        }
      ]
    },
    {
      "cell_type": "markdown",
      "metadata": {
        "id": "dM1pt1MJEAoh"
      },
      "source": [
        "### **10. Create a topic model using LDA with what you think is the optimal number of topics**\n",
        "\n",
        "a. What is the coherence of the model?"
      ]
    },
    {
      "cell_type": "code",
      "metadata": {
        "id": "oNa5Z0sYD8td"
      },
      "source": [
        "lda_model8 = gensim.models.ldamodel.LdaModel(corpus=corpus, id2word=id2word, num_topics=8, random_state=42, passes=10, per_word_topics=True)\n"
      ],
      "execution_count": 32,
      "outputs": []
    },
    {
      "cell_type": "code",
      "metadata": {
        "colab": {
          "base_uri": "https://localhost:8080/"
        },
        "id": "aTF-Qkw6EQ2w",
        "outputId": "c82e4bac-2820-4438-b98e-6476773182b8"
      },
      "source": [
        "coherence_model_lda = CoherenceModel(model=lda_model8, texts=creviews,dictionary=id2word, coherence='c_v')\n",
        "coherence_lda = coherence_model_lda.get_coherence()\n",
        "print('\\nCoherence Score: ', coherence_lda)"
      ],
      "execution_count": 33,
      "outputs": [
        {
          "output_type": "stream",
          "text": [
            "\n",
            "Coherence Score:  0.4758110134966591\n"
          ],
          "name": "stdout"
        }
      ]
    },
    {
      "cell_type": "markdown",
      "metadata": {
        "id": "Pgvu0bmeEpVD"
      },
      "source": [
        "### **11. The business should be able to interpret the topics.**\n",
        "\n",
        "a. Name each of the identified topics.\n",
        "\n",
        "b. Create a table with the topic name and the top 10 terms in each to present to the business."
      ]
    },
    {
      "cell_type": "code",
      "metadata": {
        "colab": {
          "base_uri": "https://localhost:8080/"
        },
        "id": "-yCPYtAaEf0q",
        "outputId": "043a1ac8-f747-4aec-8446-14c8f63d441d"
      },
      "source": [
        "x = lda_model8.show_topics(formatted=False)\n",
        "topics_words = [(tp[0], [wd[0] for wd in tp[1]]) for tp in x]\n",
        "for topic,words in topics_words:\n",
        " print(str(topic)+ \"::\"+ str(words))\n",
        "print()"
      ],
      "execution_count": 34,
      "outputs": [
        {
          "output_type": "stream",
          "text": [
            "0::['mobile', 'battery', 'heat', 'backup', 'charger', '..', 'box', 'issue', 'turbo', 'piece']\n",
            "1::['camera', 'quality', 'phone', 'battery', 'performance', 'sound', 'mode', 'display', 'speaker', 'price']\n",
            "2::['delivery', 'service', 'hai', 'handset', 'amazon', 'super', 'thanks', 'set', 'experience', 'hi']\n",
            "3::['phone', 'battery', 'day', 'time', 'issue', 'hour', 'charge', 'feature', 'update', 'use']\n",
            "4::['money', 'waste', 'everything', 'value', 'superb', 'smartphone', 'worth', 'please', 'awesome', 'date']\n",
            "5::['note', 'phone', 'k8', 'issue', 'lenovo', 'call', 'network', 'amazon', 'service', 'sim']\n",
            "6::['problem', 'heating', 'device', 'cast', 'issue', 'network', 'screen', 'month', 'phone..', 'bill']\n",
            "7::['product', 'price', 'feature', 'phone', 'range', 'lenovo', 'buy', 'earphone', 'ok', 'cost']\n",
            "\n"
          ],
          "name": "stdout"
        }
      ]
    },
    {
      "cell_type": "markdown",
      "metadata": {
        "id": "dB6zN0imGh2m"
      },
      "source": [
        "**Topic - Business Name**\n",
        "\n",
        "Topic0 Product Accessories\n",
        "\n",
        "Topic1 options to be considered for shopping\n",
        "\n",
        "Topic2 Performance of the eshopping platform\n",
        "\n",
        "Topic3 Phone Performance\n",
        "\n",
        "Topic4 feedbacks of the product\n",
        "\n",
        "Topic5 Related to Communication ChannelChannels \n",
        "\n",
        "Topic6 Features on which pricing depends \n",
        "\n",
        "Topic8 Overall General Phone Features\n"
      ]
    }
  ]
}